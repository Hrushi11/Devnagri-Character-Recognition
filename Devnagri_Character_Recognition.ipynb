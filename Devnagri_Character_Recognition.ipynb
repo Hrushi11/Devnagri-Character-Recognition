{
  "nbformat": 4,
  "nbformat_minor": 0,
  "metadata": {
    "colab": {
      "name": "Devnagri-Character-Recognition.ipynb",
      "provenance": [],
      "collapsed_sections": []
    },
    "kernelspec": {
      "name": "python3",
      "display_name": "Python 3"
    },
    "language_info": {
      "name": "python"
    }
  },
  "cells": [
    {
      "cell_type": "markdown",
      "metadata": {
        "id": "sIJDDGB0JSBm"
      },
      "source": [
        "# Devnagri-Character-Recognition\n",
        "\n",
        "The dataset was created by extraction and manual annotation of thousands of characters from handwritten documents.\n",
        "Creator Name: Shailesh Acharya, `Email: sailes437@gmail.com`, Institution: University of North Texas, Cell: +19402200157\n",
        "Creator Name: Prashnna Kumar Gyawali, `Email: gyawali.prasanna@gmail.com`, Institution: Rochester Institute of Technology\n",
        "Data Type: GrayScale Image\n",
        "\n",
        "The image dataset can be used to benchmark classification algorithm for OCR systems. The highest accuracy obtained in the Test set is 98.47%. Model Description is available in the paper.\n",
        "Image Format: .png\n",
        "Resolution: 32 by 32\n",
        "\n",
        "Actual character is centered within 28 by 28 pixel, padding of 2 pixel is added on all four sides of actual character.\n",
        "\n",
        "S. Acharya, A.K. Pant and P.K. Gyawali â€œDeep Learning Based Large Scale Handwritten Devanagari Character Recognitionâ€,In Proceedings of the 9th International Conference on Software, Knowledge, Information Management and Applications (SKIMA), pp. 121-126, 2015.\n",
        "Your data will be in front of the world's largest data science community. What questions do you want to see answered?"
      ]
    },
    {
      "cell_type": "code",
      "metadata": {
        "id": "Sa9e8GMFHFPr"
      },
      "source": [
        "from google.colab import files\n",
        "files.upload()"
      ],
      "execution_count": null,
      "outputs": []
    },
    {
      "cell_type": "code",
      "metadata": {
        "colab": {
          "base_uri": "https://localhost:8080/"
        },
        "id": "JrqrP4aAHMGu",
        "outputId": "20318623-221a-4c47-8ea4-e135a58f43c1"
      },
      "source": [
        "! mkdir ~/.kaggle\n",
        "! cp kaggle.json ~/.kaggle/\n",
        "! chmod 600 ~/.kaggle/kaggle.json\n",
        "! kaggle datasets download -d jhashanku007/devnagri-hindi-dataset"
      ],
      "execution_count": 2,
      "outputs": [
        {
          "output_type": "stream",
          "name": "stdout",
          "text": [
            "Downloading devnagri-hindi-dataset.zip to /content\n",
            "100% 158M/159M [00:04<00:00, 64.9MB/s]\n",
            "100% 159M/159M [00:04<00:00, 40.3MB/s]\n"
          ]
        }
      ]
    },
    {
      "cell_type": "code",
      "metadata": {
        "colab": {
          "base_uri": "https://localhost:8080/"
        },
        "id": "jKHYqS9cH6ch",
        "outputId": "fc3cbdc7-854b-4335-efbc-72566cf513d0"
      },
      "source": [
        "# downloading helper_functions.py\n",
        "! wget https://raw.githubusercontent.com/Hrushi11/Dogs_VS_Cats/main/helper_functions.py"
      ],
      "execution_count": 3,
      "outputs": [
        {
          "output_type": "stream",
          "name": "stdout",
          "text": [
            "--2021-11-01 14:47:53--  https://raw.githubusercontent.com/Hrushi11/Dogs_VS_Cats/main/helper_functions.py\n",
            "Resolving raw.githubusercontent.com (raw.githubusercontent.com)... 185.199.111.133, 185.199.108.133, 185.199.110.133, ...\n",
            "Connecting to raw.githubusercontent.com (raw.githubusercontent.com)|185.199.111.133|:443... connected.\n",
            "HTTP request sent, awaiting response... 200 OK\n",
            "Length: 10139 (9.9K) [text/plain]\n",
            "Saving to: ‘helper_functions.py’\n",
            "\n",
            "\rhelper_functions.py   0%[                    ]       0  --.-KB/s               \rhelper_functions.py 100%[===================>]   9.90K  --.-KB/s    in 0s      \n",
            "\n",
            "2021-11-01 14:47:53 (79.3 MB/s) - ‘helper_functions.py’ saved [10139/10139]\n",
            "\n"
          ]
        }
      ]
    },
    {
      "cell_type": "markdown",
      "metadata": {
        "id": "gJaN-3P0JN22"
      },
      "source": [
        "## Importing dependancies"
      ]
    },
    {
      "cell_type": "code",
      "metadata": {
        "id": "AgBJvuXpJLdf"
      },
      "source": [
        "import os\n",
        "import random\n",
        "import numpy as np\n",
        "import pandas as pd\n",
        "import tensorflow as tf\n",
        "import matplotlib.pyplot as plt\n",
        "\n",
        "from tensorflow.keras.preprocessing.image import ImageDataGenerator\n",
        "from helper_functions import unzip_data, plot_loss_curves, walk_through_dir, confusion_matrix, compare_historys"
      ],
      "execution_count": 130,
      "outputs": []
    },
    {
      "cell_type": "code",
      "metadata": {
        "id": "yArAozUlJ5rM"
      },
      "source": [
        "# Unzipping the data\n",
        "unzip_data(\"/content/devnagri-hindi-dataset.zip\")"
      ],
      "execution_count": 5,
      "outputs": []
    },
    {
      "cell_type": "code",
      "metadata": {
        "colab": {
          "base_uri": "https://localhost:8080/"
        },
        "id": "95AA6L4qKAjB",
        "outputId": "229172e4-eb99-4d2b-df2c-760e42602dbd"
      },
      "source": [
        "# Walking through the dataset\n",
        "walk_through_dir(\"/content/DevanagariHandwrittenCharacterDataset\")"
      ],
      "execution_count": 6,
      "outputs": [
        {
          "output_type": "stream",
          "name": "stdout",
          "text": [
            "There are 2 directories and 0 images in '/content/DevanagariHandwrittenCharacterDataset'.\n",
            "There are 46 directories and 0 images in '/content/DevanagariHandwrittenCharacterDataset/Train'.\n",
            "There are 0 directories and 1700 images in '/content/DevanagariHandwrittenCharacterDataset/Train/digit_9'.\n",
            "There are 0 directories and 1700 images in '/content/DevanagariHandwrittenCharacterDataset/Train/character_3_ga'.\n",
            "There are 0 directories and 1700 images in '/content/DevanagariHandwrittenCharacterDataset/Train/digit_7'.\n",
            "There are 0 directories and 1700 images in '/content/DevanagariHandwrittenCharacterDataset/Train/character_8_ja'.\n",
            "There are 0 directories and 1700 images in '/content/DevanagariHandwrittenCharacterDataset/Train/character_16_tabala'.\n",
            "There are 0 directories and 1700 images in '/content/DevanagariHandwrittenCharacterDataset/Train/character_31_petchiryakha'.\n",
            "There are 0 directories and 1700 images in '/content/DevanagariHandwrittenCharacterDataset/Train/character_28_la'.\n",
            "There are 0 directories and 1700 images in '/content/DevanagariHandwrittenCharacterDataset/Train/character_27_ra'.\n",
            "There are 0 directories and 1700 images in '/content/DevanagariHandwrittenCharacterDataset/Train/digit_6'.\n",
            "There are 0 directories and 1700 images in '/content/DevanagariHandwrittenCharacterDataset/Train/character_21_pa'.\n",
            "There are 0 directories and 1700 images in '/content/DevanagariHandwrittenCharacterDataset/Train/character_18_da'.\n",
            "There are 0 directories and 1700 images in '/content/DevanagariHandwrittenCharacterDataset/Train/digit_3'.\n",
            "There are 0 directories and 1700 images in '/content/DevanagariHandwrittenCharacterDataset/Train/character_20_na'.\n",
            "There are 0 directories and 1700 images in '/content/DevanagariHandwrittenCharacterDataset/Train/character_30_motosaw'.\n",
            "There are 0 directories and 1700 images in '/content/DevanagariHandwrittenCharacterDataset/Train/character_13_daa'.\n",
            "There are 0 directories and 1700 images in '/content/DevanagariHandwrittenCharacterDataset/Train/character_32_patalosaw'.\n",
            "There are 0 directories and 1700 images in '/content/DevanagariHandwrittenCharacterDataset/Train/character_19_dha'.\n",
            "There are 0 directories and 1700 images in '/content/DevanagariHandwrittenCharacterDataset/Train/digit_5'.\n",
            "There are 0 directories and 1700 images in '/content/DevanagariHandwrittenCharacterDataset/Train/character_5_kna'.\n",
            "There are 0 directories and 1700 images in '/content/DevanagariHandwrittenCharacterDataset/Train/character_6_cha'.\n",
            "There are 0 directories and 1700 images in '/content/DevanagariHandwrittenCharacterDataset/Train/character_22_pha'.\n",
            "There are 0 directories and 1700 images in '/content/DevanagariHandwrittenCharacterDataset/Train/character_9_jha'.\n",
            "There are 0 directories and 1700 images in '/content/DevanagariHandwrittenCharacterDataset/Train/character_1_ka'.\n",
            "There are 0 directories and 1700 images in '/content/DevanagariHandwrittenCharacterDataset/Train/character_26_yaw'.\n",
            "There are 0 directories and 1700 images in '/content/DevanagariHandwrittenCharacterDataset/Train/character_29_waw'.\n",
            "There are 0 directories and 1700 images in '/content/DevanagariHandwrittenCharacterDataset/Train/character_2_kha'.\n",
            "There are 0 directories and 1700 images in '/content/DevanagariHandwrittenCharacterDataset/Train/digit_8'.\n",
            "There are 0 directories and 1700 images in '/content/DevanagariHandwrittenCharacterDataset/Train/character_25_ma'.\n",
            "There are 0 directories and 1700 images in '/content/DevanagariHandwrittenCharacterDataset/Train/character_36_gya'.\n",
            "There are 0 directories and 1700 images in '/content/DevanagariHandwrittenCharacterDataset/Train/character_24_bha'.\n",
            "There are 0 directories and 1700 images in '/content/DevanagariHandwrittenCharacterDataset/Train/character_34_chhya'.\n",
            "There are 0 directories and 1700 images in '/content/DevanagariHandwrittenCharacterDataset/Train/character_14_dhaa'.\n",
            "There are 0 directories and 1700 images in '/content/DevanagariHandwrittenCharacterDataset/Train/character_17_tha'.\n",
            "There are 0 directories and 1700 images in '/content/DevanagariHandwrittenCharacterDataset/Train/character_11_taamatar'.\n",
            "There are 0 directories and 1700 images in '/content/DevanagariHandwrittenCharacterDataset/Train/digit_4'.\n",
            "There are 0 directories and 1700 images in '/content/DevanagariHandwrittenCharacterDataset/Train/character_35_tra'.\n",
            "There are 0 directories and 1700 images in '/content/DevanagariHandwrittenCharacterDataset/Train/character_33_ha'.\n",
            "There are 0 directories and 1700 images in '/content/DevanagariHandwrittenCharacterDataset/Train/character_4_gha'.\n",
            "There are 0 directories and 1700 images in '/content/DevanagariHandwrittenCharacterDataset/Train/character_10_yna'.\n",
            "There are 0 directories and 1700 images in '/content/DevanagariHandwrittenCharacterDataset/Train/digit_0'.\n",
            "There are 0 directories and 1700 images in '/content/DevanagariHandwrittenCharacterDataset/Train/character_7_chha'.\n",
            "There are 0 directories and 1700 images in '/content/DevanagariHandwrittenCharacterDataset/Train/digit_2'.\n",
            "There are 0 directories and 1700 images in '/content/DevanagariHandwrittenCharacterDataset/Train/character_23_ba'.\n",
            "There are 0 directories and 1700 images in '/content/DevanagariHandwrittenCharacterDataset/Train/character_15_adna'.\n",
            "There are 0 directories and 1700 images in '/content/DevanagariHandwrittenCharacterDataset/Train/digit_1'.\n",
            "There are 0 directories and 1700 images in '/content/DevanagariHandwrittenCharacterDataset/Train/character_12_thaa'.\n",
            "There are 46 directories and 0 images in '/content/DevanagariHandwrittenCharacterDataset/Test'.\n",
            "There are 0 directories and 300 images in '/content/DevanagariHandwrittenCharacterDataset/Test/digit_9'.\n",
            "There are 0 directories and 300 images in '/content/DevanagariHandwrittenCharacterDataset/Test/character_3_ga'.\n",
            "There are 0 directories and 300 images in '/content/DevanagariHandwrittenCharacterDataset/Test/digit_7'.\n",
            "There are 0 directories and 300 images in '/content/DevanagariHandwrittenCharacterDataset/Test/character_8_ja'.\n",
            "There are 0 directories and 300 images in '/content/DevanagariHandwrittenCharacterDataset/Test/character_16_tabala'.\n",
            "There are 0 directories and 300 images in '/content/DevanagariHandwrittenCharacterDataset/Test/character_31_petchiryakha'.\n",
            "There are 0 directories and 300 images in '/content/DevanagariHandwrittenCharacterDataset/Test/character_28_la'.\n",
            "There are 0 directories and 300 images in '/content/DevanagariHandwrittenCharacterDataset/Test/character_27_ra'.\n",
            "There are 0 directories and 300 images in '/content/DevanagariHandwrittenCharacterDataset/Test/digit_6'.\n",
            "There are 0 directories and 300 images in '/content/DevanagariHandwrittenCharacterDataset/Test/character_21_pa'.\n",
            "There are 0 directories and 300 images in '/content/DevanagariHandwrittenCharacterDataset/Test/character_18_da'.\n",
            "There are 0 directories and 300 images in '/content/DevanagariHandwrittenCharacterDataset/Test/digit_3'.\n",
            "There are 0 directories and 300 images in '/content/DevanagariHandwrittenCharacterDataset/Test/character_20_na'.\n",
            "There are 0 directories and 300 images in '/content/DevanagariHandwrittenCharacterDataset/Test/character_30_motosaw'.\n",
            "There are 0 directories and 300 images in '/content/DevanagariHandwrittenCharacterDataset/Test/character_13_daa'.\n",
            "There are 0 directories and 300 images in '/content/DevanagariHandwrittenCharacterDataset/Test/character_32_patalosaw'.\n",
            "There are 0 directories and 300 images in '/content/DevanagariHandwrittenCharacterDataset/Test/character_19_dha'.\n",
            "There are 0 directories and 300 images in '/content/DevanagariHandwrittenCharacterDataset/Test/digit_5'.\n",
            "There are 0 directories and 300 images in '/content/DevanagariHandwrittenCharacterDataset/Test/character_5_kna'.\n",
            "There are 0 directories and 300 images in '/content/DevanagariHandwrittenCharacterDataset/Test/character_6_cha'.\n",
            "There are 0 directories and 300 images in '/content/DevanagariHandwrittenCharacterDataset/Test/character_22_pha'.\n",
            "There are 0 directories and 300 images in '/content/DevanagariHandwrittenCharacterDataset/Test/character_9_jha'.\n",
            "There are 0 directories and 300 images in '/content/DevanagariHandwrittenCharacterDataset/Test/character_1_ka'.\n",
            "There are 0 directories and 300 images in '/content/DevanagariHandwrittenCharacterDataset/Test/character_26_yaw'.\n",
            "There are 0 directories and 300 images in '/content/DevanagariHandwrittenCharacterDataset/Test/character_29_waw'.\n",
            "There are 0 directories and 300 images in '/content/DevanagariHandwrittenCharacterDataset/Test/character_2_kha'.\n",
            "There are 0 directories and 300 images in '/content/DevanagariHandwrittenCharacterDataset/Test/digit_8'.\n",
            "There are 0 directories and 300 images in '/content/DevanagariHandwrittenCharacterDataset/Test/character_25_ma'.\n",
            "There are 0 directories and 300 images in '/content/DevanagariHandwrittenCharacterDataset/Test/character_36_gya'.\n",
            "There are 0 directories and 300 images in '/content/DevanagariHandwrittenCharacterDataset/Test/character_24_bha'.\n",
            "There are 0 directories and 300 images in '/content/DevanagariHandwrittenCharacterDataset/Test/character_34_chhya'.\n",
            "There are 0 directories and 300 images in '/content/DevanagariHandwrittenCharacterDataset/Test/character_14_dhaa'.\n",
            "There are 0 directories and 300 images in '/content/DevanagariHandwrittenCharacterDataset/Test/character_17_tha'.\n",
            "There are 0 directories and 300 images in '/content/DevanagariHandwrittenCharacterDataset/Test/character_11_taamatar'.\n",
            "There are 0 directories and 300 images in '/content/DevanagariHandwrittenCharacterDataset/Test/digit_4'.\n",
            "There are 0 directories and 300 images in '/content/DevanagariHandwrittenCharacterDataset/Test/character_35_tra'.\n",
            "There are 0 directories and 300 images in '/content/DevanagariHandwrittenCharacterDataset/Test/character_33_ha'.\n",
            "There are 0 directories and 300 images in '/content/DevanagariHandwrittenCharacterDataset/Test/character_4_gha'.\n",
            "There are 0 directories and 300 images in '/content/DevanagariHandwrittenCharacterDataset/Test/character_10_yna'.\n",
            "There are 0 directories and 300 images in '/content/DevanagariHandwrittenCharacterDataset/Test/digit_0'.\n",
            "There are 0 directories and 300 images in '/content/DevanagariHandwrittenCharacterDataset/Test/character_7_chha'.\n",
            "There are 0 directories and 300 images in '/content/DevanagariHandwrittenCharacterDataset/Test/digit_2'.\n",
            "There are 0 directories and 300 images in '/content/DevanagariHandwrittenCharacterDataset/Test/character_23_ba'.\n",
            "There are 0 directories and 300 images in '/content/DevanagariHandwrittenCharacterDataset/Test/character_15_adna'.\n",
            "There are 0 directories and 300 images in '/content/DevanagariHandwrittenCharacterDataset/Test/digit_1'.\n",
            "There are 0 directories and 300 images in '/content/DevanagariHandwrittenCharacterDataset/Test/character_12_thaa'.\n"
          ]
        }
      ]
    },
    {
      "cell_type": "code",
      "metadata": {
        "id": "I7xWwApzKLg_"
      },
      "source": [
        "# To delete the zip file\n",
        "!rm devnagri-hindi-dataset.zip"
      ],
      "execution_count": 7,
      "outputs": []
    },
    {
      "cell_type": "code",
      "metadata": {
        "id": "E8Fxm0BHKiW-"
      },
      "source": [
        "train_dir = \"/content/DevanagariHandwrittenCharacterDataset/Train\"\n",
        "test_dir = \"/content/DevanagariHandwrittenCharacterDataset/Test\""
      ],
      "execution_count": 8,
      "outputs": []
    },
    {
      "cell_type": "code",
      "metadata": {
        "id": "hdhwwT3Ta7JF"
      },
      "source": [
        "# loading and preprocessing the image\n",
        "def load_and_prep(filepath):\n",
        "  img = tf.io.read_file(filepath)\n",
        "  img = tf.image.decode_image(img)\n",
        "  img = tf.image.resize(img, (32, 32))\n",
        "  if img.shape[2] == 1:\n",
        "    img = tf.image.grayscale_to_rgb(img)\n",
        "  return img"
      ],
      "execution_count": 12,
      "outputs": []
    },
    {
      "cell_type": "code",
      "metadata": {
        "id": "2E_AMIo-aDQJ"
      },
      "source": [
        "# setting up classes\n",
        "classes = os.listdir(train_dir)"
      ],
      "execution_count": 13,
      "outputs": []
    },
    {
      "cell_type": "code",
      "metadata": {
        "colab": {
          "base_uri": "https://localhost:8080/",
          "height": 264
        },
        "id": "9oYo8fRfaNLc",
        "outputId": "b1a399e6-391f-4542-eb30-f67976440cd1"
      },
      "source": [
        "# Visualizing a random image\n",
        "class_ = random.choice(classes)\n",
        "img_path = random.choice(os.listdir(train_dir + \"/\" + class_))\n",
        "img = load_and_prep(train_dir + \"/\" + class_ + \"/\" + img_path)\n",
        "plt.imshow(img/255)\n",
        "plt.axis(False)\n",
        "plt.title(class_, color=\"green\");"
      ],
      "execution_count": 14,
      "outputs": [
        {
          "output_type": "display_data",
          "data": {
            "image/png": "[encoded data removed]",
            "text/plain": [
              "<Figure size 432x288 with 1 Axes>"
            ]
          },
          "metadata": {
            "needs_background": "light"
          }
        }
      ]
    },
    {
      "cell_type": "code",
      "metadata": {
        "colab": {
          "base_uri": "https://localhost:8080/",
          "height": 699
        },
        "id": "SHPAzKbObT2g",
        "outputId": "02b870a6-146c-4c50-d6da-18b73ec0279a"
      },
      "source": [
        "# Plotting multiple ranodm images\n",
        "plt.figure(figsize=(17, 12))\n",
        "for i in range(12):\n",
        "  # Getting the image\n",
        "  class_ = random.choice(classes)\n",
        "  img_path = random.choice(os.listdir(train_dir + \"/\" + class_))\n",
        "  img = load_and_prep(train_dir + \"/\" + class_ + \"/\" + img_path)\n",
        "  \n",
        "  # plotting on the subplot\n",
        "  plt.subplot(3, 4, i+1)\n",
        "  plt.imshow(img/255)\n",
        "  plt.axis(False)\n",
        "  plt.title(class_, color=\"green\");"
      ],
      "execution_count": 134,
      "outputs": [
        {
          "output_type": "display_data",
          "data": {
            "image/png": "[encoded data removed]",
            "text/plain": [
              "<Figure size 1224x864 with 12 Axes>"
            ]
          },
          "metadata": {
            "needs_background": "light"
          }
        }
      ]
    },
    {
      "cell_type": "code",
      "metadata": {
        "id": "uAflAgZ8cQX4"
      },
      "source": [
        "# Data generators\n",
        "data_gen = ImageDataGenerator()"
      ],
      "execution_count": 16,
      "outputs": []
    },
    {
      "cell_type": "code",
      "metadata": {
        "colab": {
          "base_uri": "https://localhost:8080/"
        },
        "id": "M17isIimetFL",
        "outputId": "fb9a9d60-acc2-4fa2-aa70-ccfffdb6ac8d"
      },
      "source": [
        "# Train and test data\n",
        "train_data = data_gen.flow_from_directory(train_dir,\n",
        "                                          seed=42,\n",
        "                                          shuffle=True)\n",
        "\n",
        "test_data = data_gen.flow_from_directory(test_dir,\n",
        "                                         shuffle=False)"
      ],
      "execution_count": 17,
      "outputs": [
        {
          "output_type": "stream",
          "name": "stdout",
          "text": [
            "Found 78200 images belonging to 46 classes.\n",
            "Found 13800 images belonging to 46 classes.\n"
          ]
        }
      ]
    },
    {
      "cell_type": "code",
      "metadata": {
        "colab": {
          "base_uri": "https://localhost:8080/"
        },
        "id": "8nZ36RjnfIWg",
        "outputId": "44a1df2b-2218-465c-fdf6-176c751186b4"
      },
      "source": [
        "len(train_data), len(test_data)"
      ],
      "execution_count": 18,
      "outputs": [
        {
          "output_type": "execute_result",
          "data": {
            "text/plain": [
              "(2444, 432)"
            ]
          },
          "metadata": {},
          "execution_count": 18
        }
      ]
    },
    {
      "cell_type": "code",
      "metadata": {
        "colab": {
          "base_uri": "https://localhost:8080/"
        },
        "id": "LeU9LeAnfQXP",
        "outputId": "55210e5d-dfea-45ad-9665-fde97a980116"
      },
      "source": [
        "train_data.class_indices"
      ],
      "execution_count": 19,
      "outputs": [
        {
          "output_type": "execute_result",
          "data": {
            "text/plain": [
              "{'character_10_yna': 0,\n",
              " 'character_11_taamatar': 1,\n",
              " 'character_12_thaa': 2,\n",
              " 'character_13_daa': 3,\n",
              " 'character_14_dhaa': 4,\n",
              " 'character_15_adna': 5,\n",
              " 'character_16_tabala': 6,\n",
              " 'character_17_tha': 7,\n",
              " 'character_18_da': 8,\n",
              " 'character_19_dha': 9,\n",
              " 'character_1_ka': 10,\n",
              " 'character_20_na': 11,\n",
              " 'character_21_pa': 12,\n",
              " 'character_22_pha': 13,\n",
              " 'character_23_ba': 14,\n",
              " 'character_24_bha': 15,\n",
              " 'character_25_ma': 16,\n",
              " 'character_26_yaw': 17,\n",
              " 'character_27_ra': 18,\n",
              " 'character_28_la': 19,\n",
              " 'character_29_waw': 20,\n",
              " 'character_2_kha': 21,\n",
              " 'character_30_motosaw': 22,\n",
              " 'character_31_petchiryakha': 23,\n",
              " 'character_32_patalosaw': 24,\n",
              " 'character_33_ha': 25,\n",
              " 'character_34_chhya': 26,\n",
              " 'character_35_tra': 27,\n",
              " 'character_36_gya': 28,\n",
              " 'character_3_ga': 29,\n",
              " 'character_4_gha': 30,\n",
              " 'character_5_kna': 31,\n",
              " 'character_6_cha': 32,\n",
              " 'character_7_chha': 33,\n",
              " 'character_8_ja': 34,\n",
              " 'character_9_jha': 35,\n",
              " 'digit_0': 36,\n",
              " 'digit_1': 37,\n",
              " 'digit_2': 38,\n",
              " 'digit_3': 39,\n",
              " 'digit_4': 40,\n",
              " 'digit_5': 41,\n",
              " 'digit_6': 42,\n",
              " 'digit_7': 43,\n",
              " 'digit_8': 44,\n",
              " 'digit_9': 45}"
            ]
          },
          "metadata": {},
          "execution_count": 19
        }
      ]
    },
    {
      "cell_type": "code",
      "metadata": {
        "id": "crA5p4QWfUT5"
      },
      "source": [
        "labels = []\n",
        "for i in train_data.class_indices.keys():\n",
        "  labels.append(i)"
      ],
      "execution_count": 20,
      "outputs": []
    },
    {
      "cell_type": "code",
      "metadata": {
        "colab": {
          "base_uri": "https://localhost:8080/"
        },
        "id": "BkzchUHTfe8K",
        "outputId": "4dd9cfa4-373a-4206-88f7-30cc820d8d0e"
      },
      "source": [
        "labels"
      ],
      "execution_count": 21,
      "outputs": [
        {
          "output_type": "execute_result",
          "data": {
            "text/plain": [
              "['character_10_yna',\n",
              " 'character_11_taamatar',\n",
              " 'character_12_thaa',\n",
              " 'character_13_daa',\n",
              " 'character_14_dhaa',\n",
              " 'character_15_adna',\n",
              " 'character_16_tabala',\n",
              " 'character_17_tha',\n",
              " 'character_18_da',\n",
              " 'character_19_dha',\n",
              " 'character_1_ka',\n",
              " 'character_20_na',\n",
              " 'character_21_pa',\n",
              " 'character_22_pha',\n",
              " 'character_23_ba',\n",
              " 'character_24_bha',\n",
              " 'character_25_ma',\n",
              " 'character_26_yaw',\n",
              " 'character_27_ra',\n",
              " 'character_28_la',\n",
              " 'character_29_waw',\n",
              " 'character_2_kha',\n",
              " 'character_30_motosaw',\n",
              " 'character_31_petchiryakha',\n",
              " 'character_32_patalosaw',\n",
              " 'character_33_ha',\n",
              " 'character_34_chhya',\n",
              " 'character_35_tra',\n",
              " 'character_36_gya',\n",
              " 'character_3_ga',\n",
              " 'character_4_gha',\n",
              " 'character_5_kna',\n",
              " 'character_6_cha',\n",
              " 'character_7_chha',\n",
              " 'character_8_ja',\n",
              " 'character_9_jha',\n",
              " 'digit_0',\n",
              " 'digit_1',\n",
              " 'digit_2',\n",
              " 'digit_3',\n",
              " 'digit_4',\n",
              " 'digit_5',\n",
              " 'digit_6',\n",
              " 'digit_7',\n",
              " 'digit_8',\n",
              " 'digit_9']"
            ]
          },
          "metadata": {},
          "execution_count": 21
        }
      ]
    },
    {
      "cell_type": "markdown",
      "metadata": {
        "id": "UPxsDaeUfv_t"
      },
      "source": [
        "## Building the model"
      ]
    },
    {
      "cell_type": "code",
      "metadata": {
        "colab": {
          "base_uri": "https://localhost:8080/"
        },
        "id": "m7Lhe7wufnPS",
        "outputId": "22aad00d-66b0-46fd-d2cc-d260817be520"
      },
      "source": [
        "# Setting up base model\n",
        "base_model = tf.keras.applications.EfficientNetB0(include_top=False)\n",
        "base_model.trainable = False\n",
        "\n",
        "# Setting input layer \n",
        "inputs = tf.keras.layers.Input(shape=(32, 32, 1), name=\"input_layer\")\n",
        "x = base_model(inputs, training=False)\n",
        "x = tf.keras.layers.GlobalAveragePooling2D(name=\"global_average_pooling\")(x) \n",
        "outputs = tf.keras.layers.Dense(len(labels), activation=\"softmax\", name=\"output_layer\")(x) \n",
        "model_1 = tf.keras.Model(inputs, outputs)\n",
        "\n",
        "# compiling the model\n",
        "model_1.compile(loss=tf.keras.losses.categorical_crossentropy,\n",
        "                optimizer=tf.keras.optimizers.Adam(),\n",
        "                metrics=[\"accuracy\"])\n",
        "\n",
        "# fit the model\n",
        "history_1 = model_1.fit(train_data,\n",
        "                        epochs=5,\n",
        "                        steps_per_epoch=len(train_data),\n",
        "                        validation_data=test_data,\n",
        "                        validation_steps=int(len(test_data) * 0.25))"
      ],
      "execution_count": null,
      "outputs": [
        {
          "output_type": "stream",
          "name": "stdout",
          "text": [
            "WARNING:tensorflow:Model was constructed with shape (None, None, None, 3) for input KerasTensor(type_spec=TensorSpec(shape=(None, None, None, 3), dtype=tf.float32, name='input_2'), name='input_2', description=\"created by layer 'input_2'\"), but it was called on an input with incompatible shape (None, 32, 32, 1).\n",
            "Epoch 1/5\n",
            "WARNING:tensorflow:Model was constructed with shape (None, None, None, 3) for input KerasTensor(type_spec=TensorSpec(shape=(None, None, None, 3), dtype=tf.float32, name='input_2'), name='input_2', description=\"created by layer 'input_2'\"), but it was called on an input with incompatible shape (None, 32, 32, 1).\n",
            "WARNING:tensorflow:Model was constructed with shape (None, None, None, 3) for input KerasTensor(type_spec=TensorSpec(shape=(None, None, None, 3), dtype=tf.float32, name='input_2'), name='input_2', description=\"created by layer 'input_2'\"), but it was called on an input with incompatible shape (None, 32, 32, 1).\n",
            "2444/2444 [==============================] - ETA: 0s - loss: 1.1488 - accuracy: 0.7455WARNING:tensorflow:Model was constructed with shape (None, None, None, 3) for input KerasTensor(type_spec=TensorSpec(shape=(None, None, None, 3), dtype=tf.float32, name='input_2'), name='input_2', description=\"created by layer 'input_2'\"), but it was called on an input with incompatible shape (None, 32, 32, 1).\n",
            "2444/2444 [==============================] - 427s 160ms/step - loss: 1.1488 - accuracy: 0.7455 - val_loss: 0.6485 - val_accuracy: 0.8484\n",
            "Epoch 2/5\n",
            "2444/2444 [==============================] - 388s 159ms/step - loss: 0.4858 - accuracy: 0.8854 - val_loss: 0.4138 - val_accuracy: 0.9016\n",
            "Epoch 3/5\n",
            "2444/2444 [==============================] - 388s 159ms/step - loss: 0.3491 - accuracy: 0.9159 - val_loss: 0.3115 - val_accuracy: 0.9207\n",
            "Epoch 4/5\n",
            "2444/2444 [==============================] - 388s 159ms/step - loss: 0.2812 - accuracy: 0.9306 - val_loss: 0.2892 - val_accuracy: 0.9233\n",
            "Epoch 5/5\n",
            "2444/2444 [==============================] - 388s 159ms/step - loss: 0.2385 - accuracy: 0.9411 - val_loss: 0.2434 - val_accuracy: 0.9323\n"
          ]
        }
      ]
    },
    {
      "cell_type": "code",
      "metadata": {
        "colab": {
          "base_uri": "https://localhost:8080/"
        },
        "id": "pKzbApFXnN0D",
        "outputId": "eb535805-0fa8-41fb-93e6-9d668623034d"
      },
      "source": [
        "model_1.evaluate(test_data)"
      ],
      "execution_count": null,
      "outputs": [
        {
          "output_type": "stream",
          "name": "stdout",
          "text": [
            "432/432 [==============================] - 66s 153ms/step - loss: 0.2344 - accuracy: 0.9399\n"
          ]
        },
        {
          "output_type": "execute_result",
          "data": {
            "text/plain": [
              "[0.23439805209636688, 0.9398550987243652]"
            ]
          },
          "metadata": {},
          "execution_count": 22
        }
      ]
    },
    {
      "cell_type": "code",
      "metadata": {
        "colab": {
          "base_uri": "https://localhost:8080/",
          "height": 573
        },
        "id": "daBxavztnR0l",
        "outputId": "afd4a249-59e3-4101-b5aa-24318e276f76"
      },
      "source": [
        "plot_loss_curves(history_1)"
      ],
      "execution_count": null,
      "outputs": [
        {
          "output_type": "display_data",
          "data": {
            "image/png": "[encoded data removed]",
            "text/plain": [
              "<Figure size 432x288 with 1 Axes>"
            ]
          },
          "metadata": {
            "needs_background": "light"
          }
        },
        {
          "output_type": "display_data",
          "data": {
            "image/png": "[encoded data removed]",
            "text/plain": [
              "<Figure size 432x288 with 1 Axes>"
            ]
          },
          "metadata": {
            "needs_background": "light"
          }
        }
      ]
    },
    {
      "cell_type": "code",
      "metadata": {
        "colab": {
          "base_uri": "https://localhost:8080/"
        },
        "id": "mT-yhf4PgyG3",
        "outputId": "12977496-9572-482b-8893-847d1f7c7811"
      },
      "source": [
        "# Unfreeze all of the layers in the base model\n",
        "base_model.trainable = True\n",
        "\n",
        "# Refreeze every layer except for the last 5\n",
        "for layer in base_model.layers[:-5]:\n",
        "  layer.trainable = False\n",
        "\n",
        "# Recompile model with lower learning rate\n",
        "model_1.compile(loss='categorical_crossentropy',\n",
        "                optimizer=tf.keras.optimizers.Adam(1e-4),\n",
        "                metrics=['accuracy'])\n",
        "\n",
        "# Fine-tune for 5 more epochs\n",
        "fine_tune_epochs = 10 \n",
        "\n",
        "history_1_fine_tune_1 = model_1.fit(train_data,\n",
        "                                    epochs=fine_tune_epochs,\n",
        "                                    validation_data=test_data,\n",
        "                                    validation_steps=int(len(test_data) * 0.25), \n",
        "                                    initial_epoch=history_1.epoch[-1])"
      ],
      "execution_count": null,
      "outputs": [
        {
          "output_type": "stream",
          "name": "stdout",
          "text": [
            "Epoch 5/10\n",
            "WARNING:tensorflow:Model was constructed with shape (None, None, None, 3) for input KerasTensor(type_spec=TensorSpec(shape=(None, None, None, 3), dtype=tf.float32, name='input_2'), name='input_2', description=\"created by layer 'input_2'\"), but it was called on an input with incompatible shape (None, 32, 32, 1).\n",
            "WARNING:tensorflow:Model was constructed with shape (None, None, None, 3) for input KerasTensor(type_spec=TensorSpec(shape=(None, None, None, 3), dtype=tf.float32, name='input_2'), name='input_2', description=\"created by layer 'input_2'\"), but it was called on an input with incompatible shape (None, 32, 32, 1).\n",
            "2444/2444 [==============================] - ETA: 0s - loss: 0.1618 - accuracy: 0.9537WARNING:tensorflow:Model was constructed with shape (None, None, None, 3) for input KerasTensor(type_spec=TensorSpec(shape=(None, None, None, 3), dtype=tf.float32, name='input_2'), name='input_2', description=\"created by layer 'input_2'\"), but it was called on an input with incompatible shape (None, 32, 32, 1).\n",
            "2444/2444 [==============================] - 412s 165ms/step - loss: 0.1618 - accuracy: 0.9537 - val_loss: 0.1492 - val_accuracy: 0.9566\n",
            "Epoch 6/10\n",
            "2444/2444 [==============================] - 403s 165ms/step - loss: 0.1020 - accuracy: 0.9706 - val_loss: 0.1173 - val_accuracy: 0.9650\n",
            "Epoch 7/10\n",
            "2444/2444 [==============================] - 402s 165ms/step - loss: 0.0759 - accuracy: 0.9788 - val_loss: 0.0910 - val_accuracy: 0.9722\n",
            "Epoch 8/10\n",
            "2444/2444 [==============================] - 402s 165ms/step - loss: 0.0598 - accuracy: 0.9834 - val_loss: 0.0687 - val_accuracy: 0.9792\n",
            "Epoch 9/10\n",
            "2444/2444 [==============================] - 405s 166ms/step - loss: 0.0475 - accuracy: 0.9868 - val_loss: 0.0787 - val_accuracy: 0.9769\n",
            "Epoch 10/10\n",
            "2444/2444 [==============================] - 405s 166ms/step - loss: 0.0386 - accuracy: 0.9895 - val_loss: 0.0832 - val_accuracy: 0.9742\n"
          ]
        }
      ]
    },
    {
      "cell_type": "code",
      "metadata": {
        "colab": {
          "base_uri": "https://localhost:8080/"
        },
        "id": "0-CckoGLpCUQ",
        "outputId": "3f8ff06a-2977-47b0-f665-4a2dd746ea23"
      },
      "source": [
        "model_1.evaluate(test_data)"
      ],
      "execution_count": null,
      "outputs": [
        {
          "output_type": "stream",
          "name": "stdout",
          "text": [
            "432/432 [==============================] - 66s 152ms/step - loss: 0.0645 - accuracy: 0.9815\n"
          ]
        },
        {
          "output_type": "execute_result",
          "data": {
            "text/plain": [
              "[0.06451807171106339, 0.981521725654602]"
            ]
          },
          "metadata": {},
          "execution_count": 25
        }
      ]
    },
    {
      "cell_type": "code",
      "metadata": {
        "colab": {
          "base_uri": "https://localhost:8080/",
          "height": 513
        },
        "id": "pjnrZ1iIyV4o",
        "outputId": "0802cedd-f1db-434c-d229-260d3e357f71"
      },
      "source": [
        "compare_historys(history_1, history_1_fine_tune_1)"
      ],
      "execution_count": null,
      "outputs": [
        {
          "output_type": "display_data",
          "data": {
            "image/png": "[encoded data removed]",
            "text/plain": [
              "<Figure size 576x576 with 2 Axes>"
            ]
          },
          "metadata": {
            "needs_background": "light"
          }
        }
      ]
    },
    {
      "cell_type": "code",
      "metadata": {
        "colab": {
          "base_uri": "https://localhost:8080/"
        },
        "id": "Pn5_Sca-zG6Y",
        "outputId": "45d257c0-643b-4b9c-8b9b-2ae6ec5ae827"
      },
      "source": [
        "# Saving the model\n",
        "model_1.save(\"/content/drive/MyDrive/Hindi-OCR\")"
      ],
      "execution_count": null,
      "outputs": [
        {
          "output_type": "stream",
          "name": "stdout",
          "text": [
            "WARNING:tensorflow:Model was constructed with shape (None, None, None, 3) for input KerasTensor(type_spec=TensorSpec(shape=(None, None, None, 3), dtype=tf.float32, name='input_2'), name='input_2', description=\"created by layer 'input_2'\"), but it was called on an input with incompatible shape (None, 32, 32, 1).\n",
            "WARNING:tensorflow:Model was constructed with shape (None, None, None, 3) for input KerasTensor(type_spec=TensorSpec(shape=(None, None, None, 3), dtype=tf.float32, name='input_2'), name='input_2', description=\"created by layer 'input_2'\"), but it was called on an input with incompatible shape (None, 32, 32, 1).\n",
            "WARNING:tensorflow:Model was constructed with shape (None, None, None, 3) for input KerasTensor(type_spec=TensorSpec(shape=(None, None, None, 3), dtype=tf.float32, name='input_2'), name='input_2', description=\"created by layer 'input_2'\"), but it was called on an input with incompatible shape (None, 32, 32, 1).\n",
            "WARNING:tensorflow:Model was constructed with shape (None, None, None, 3) for input KerasTensor(type_spec=TensorSpec(shape=(None, None, None, 3), dtype=tf.float32, name='input_2'), name='input_2', description=\"created by layer 'input_2'\"), but it was called on an input with incompatible shape (None, 32, 32, 1).\n",
            "WARNING:tensorflow:Model was constructed with shape (None, None, None, 3) for input KerasTensor(type_spec=TensorSpec(shape=(None, None, None, 3), dtype=tf.float32, name='input_2'), name='input_2', description=\"created by layer 'input_2'\"), but it was called on an input with incompatible shape (None, 32, 32, 1).\n",
            "WARNING:tensorflow:Model was constructed with shape (None, None, None, 3) for input KerasTensor(type_spec=TensorSpec(shape=(None, None, None, 3), dtype=tf.float32, name='input_2'), name='input_2', description=\"created by layer 'input_2'\"), but it was called on an input with incompatible shape (None, 32, 32, 1).\n",
            "WARNING:tensorflow:Model was constructed with shape (None, None, None, 3) for input KerasTensor(type_spec=TensorSpec(shape=(None, None, None, 3), dtype=tf.float32, name='input_2'), name='input_2', description=\"created by layer 'input_2'\"), but it was called on an input with incompatible shape (None, 32, 32, 1).\n",
            "INFO:tensorflow:Assets written to: /content/drive/MyDrive/Hindi-OCR/assets\n"
          ]
        },
        {
          "output_type": "stream",
          "name": "stderr",
          "text": [
            "/usr/local/lib/python3.7/dist-packages/keras/utils/generic_utils.py:497: CustomMaskWarning: Custom mask layers require a config and must override get_config. When loading, the custom mask layer must be passed to the custom_objects argument.\n",
            "  category=CustomMaskWarning)\n"
          ]
        }
      ]
    },
    {
      "cell_type": "code",
      "metadata": {
        "colab": {
          "base_uri": "https://localhost:8080/"
        },
        "id": "STrJRWCt-wLo",
        "outputId": "cddb9779-8e11-4b1e-8650-745786e8b155"
      },
      "source": [
        "# Loading a model\n",
        "model_1 = tf.keras.models.load_model(\"/content/drive/MyDrive/Hindi-OCR\")"
      ],
      "execution_count": 22,
      "outputs": [
        {
          "output_type": "stream",
          "name": "stderr",
          "text": [
            "WARNING:absl:Importing a function (__inference_block1a_se_reduce_layer_call_and_return_conditional_losses_96928) with ops with unsaved custom gradients. Will likely fail if a gradient is requested.\n",
            "WARNING:absl:Importing a function (__inference_block2b_expand_activation_layer_call_and_return_conditional_losses_130957) with ops with unsaved custom gradients. Will likely fail if a gradient is requested.\n",
            "WARNING:absl:Importing a function (__inference_block6b_expand_activation_layer_call_and_return_conditional_losses_98733) with ops with unsaved custom gradients. Will likely fail if a gradient is requested.\n",
            "WARNING:absl:Importing a function (__inference_block4a_activation_layer_call_and_return_conditional_losses_132262) with ops with unsaved custom gradients. Will likely fail if a gradient is requested.\n",
            "WARNING:absl:Importing a function (__inference_block6c_expand_activation_layer_call_and_return_conditional_losses_98894) with ops with unsaved custom gradients. Will likely fail if a gradient is requested.\n",
            "WARNING:absl:Importing a function (__inference_stem_activation_layer_call_and_return_conditional_losses_96863) with ops with unsaved custom gradients. Will likely fail if a gradient is requested.\n",
            "WARNING:absl:Importing a function (__inference_block3a_se_reduce_layer_call_and_return_conditional_losses_131543) with ops with unsaved custom gradients. Will likely fail if a gradient is requested.\n",
            "WARNING:absl:Importing a function (__inference_block4a_expand_activation_layer_call_and_return_conditional_losses_97637) with ops with unsaved custom gradients. Will likely fail if a gradient is requested.\n",
            "WARNING:absl:Importing a function (__inference_block2b_activation_layer_call_and_return_conditional_losses_131050) with ops with unsaved custom gradients. Will likely fail if a gradient is requested.\n",
            "WARNING:absl:Importing a function (__inference_block1a_activation_layer_call_and_return_conditional_losses_96887) with ops with unsaved custom gradients. Will likely fail if a gradient is requested.\n",
            "WARNING:absl:Importing a function (__inference_block5a_se_reduce_layer_call_and_return_conditional_losses_133496) with ops with unsaved custom gradients. Will likely fail if a gradient is requested.\n",
            "WARNING:absl:Importing a function (__inference_block3a_activation_layer_call_and_return_conditional_losses_131477) with ops with unsaved custom gradients. Will likely fail if a gradient is requested.\n",
            "WARNING:absl:Importing a function (__inference_block2a_expand_activation_layer_call_and_return_conditional_losses_130577) with ops with unsaved custom gradients. Will likely fail if a gradient is requested.\n",
            "WARNING:absl:Importing a function (__inference_block6d_se_reduce_layer_call_and_return_conditional_losses_135854) with ops with unsaved custom gradients. Will likely fail if a gradient is requested.\n",
            "WARNING:absl:Importing a function (__inference_efficientnetb0_layer_call_and_return_conditional_losses_130051) with ops with unsaved custom gradients. Will likely fail if a gradient is requested.\n",
            "WARNING:absl:Importing a function (__inference_block5a_expand_activation_layer_call_and_return_conditional_losses_98112) with ops with unsaved custom gradients. Will likely fail if a gradient is requested.\n",
            "WARNING:absl:Importing a function (__inference_block4b_se_reduce_layer_call_and_return_conditional_losses_97855) with ops with unsaved custom gradients. Will likely fail if a gradient is requested.\n",
            "WARNING:absl:Importing a function (__inference_block6c_activation_layer_call_and_return_conditional_losses_135383) with ops with unsaved custom gradients. Will likely fail if a gradient is requested.\n",
            "WARNING:absl:Importing a function (__inference_block5c_se_reduce_layer_call_and_return_conditional_losses_134259) with ops with unsaved custom gradients. Will likely fail if a gradient is requested.\n",
            "WARNING:absl:Importing a function (__inference_block3b_se_reduce_layer_call_and_return_conditional_losses_131901) with ops with unsaved custom gradients. Will likely fail if a gradient is requested.\n",
            "WARNING:absl:Importing a function (__inference_top_activation_layer_call_and_return_conditional_losses_99362) with ops with unsaved custom gradients. Will likely fail if a gradient is requested.\n",
            "WARNING:absl:Importing a function (__inference_block5c_activation_layer_call_and_return_conditional_losses_134193) with ops with unsaved custom gradients. Will likely fail if a gradient is requested.\n",
            "WARNING:absl:Importing a function (__inference_block5c_activation_layer_call_and_return_conditional_losses_98443) with ops with unsaved custom gradients. Will likely fail if a gradient is requested.\n",
            "WARNING:absl:Importing a function (__inference_block5a_activation_layer_call_and_return_conditional_losses_133430) with ops with unsaved custom gradients. Will likely fail if a gradient is requested.\n",
            "WARNING:absl:Importing a function (__inference_block1a_se_reduce_layer_call_and_return_conditional_losses_130378) with ops with unsaved custom gradients. Will likely fail if a gradient is requested.\n",
            "WARNING:absl:Importing a function (__inference_block3a_se_reduce_layer_call_and_return_conditional_losses_97395) with ops with unsaved custom gradients. Will likely fail if a gradient is requested.\n",
            "WARNING:absl:Importing a function (__inference_block4b_se_reduce_layer_call_and_return_conditional_losses_132686) with ops with unsaved custom gradients. Will likely fail if a gradient is requested.\n",
            "WARNING:absl:Importing a function (__inference_block5b_se_reduce_layer_call_and_return_conditional_losses_98323) with ops with unsaved custom gradients. Will likely fail if a gradient is requested.\n",
            "WARNING:absl:Importing a function (__inference_block2b_activation_layer_call_and_return_conditional_losses_97186) with ops with unsaved custom gradients. Will likely fail if a gradient is requested.\n",
            "WARNING:absl:Importing a function (__inference_block5b_expand_activation_layer_call_and_return_conditional_losses_133695) with ops with unsaved custom gradients. Will likely fail if a gradient is requested.\n",
            "WARNING:absl:Importing a function (__inference_stem_activation_layer_call_and_return_conditional_losses_130219) with ops with unsaved custom gradients. Will likely fail if a gradient is requested.\n",
            "WARNING:absl:Importing a function (__inference_block4c_se_reduce_layer_call_and_return_conditional_losses_98016) with ops with unsaved custom gradients. Will likely fail if a gradient is requested.\n",
            "WARNING:absl:Importing a function (__inference_block5c_se_reduce_layer_call_and_return_conditional_losses_98484) with ops with unsaved custom gradients. Will likely fail if a gradient is requested.\n",
            "WARNING:absl:Importing a function (__inference_efficientnetb0_layer_call_and_return_conditional_losses_124927) with ops with unsaved custom gradients. Will likely fail if a gradient is requested.\n",
            "WARNING:absl:Importing a function (__inference_efficientnetb0_layer_call_and_return_conditional_losses_126680) with ops with unsaved custom gradients. Will likely fail if a gradient is requested.\n",
            "WARNING:absl:Importing a function (__inference_block2a_expand_activation_layer_call_and_return_conditional_losses_97009) with ops with unsaved custom gradients. Will likely fail if a gradient is requested.\n",
            "WARNING:absl:Importing a function (__inference_model_layer_call_and_return_conditional_losses_119174) with ops with unsaved custom gradients. Will likely fail if a gradient is requested.\n",
            "WARNING:absl:Importing a function (__inference_block6c_se_reduce_layer_call_and_return_conditional_losses_98959) with ops with unsaved custom gradients. Will likely fail if a gradient is requested.\n",
            "WARNING:absl:Importing a function (__inference_block6b_se_reduce_layer_call_and_return_conditional_losses_135044) with ops with unsaved custom gradients. Will likely fail if a gradient is requested.\n",
            "WARNING:absl:Importing a function (__inference_block3a_expand_activation_layer_call_and_return_conditional_losses_131362) with ops with unsaved custom gradients. Will likely fail if a gradient is requested.\n",
            "WARNING:absl:Importing a function (__inference_block4b_activation_layer_call_and_return_conditional_losses_97814) with ops with unsaved custom gradients. Will likely fail if a gradient is requested.\n",
            "WARNING:absl:Importing a function (__inference_block4c_activation_layer_call_and_return_conditional_losses_133025) with ops with unsaved custom gradients. Will likely fail if a gradient is requested.\n",
            "WARNING:absl:Importing a function (__inference_block6a_se_reduce_layer_call_and_return_conditional_losses_98652) with ops with unsaved custom gradients. Will likely fail if a gradient is requested.\n",
            "WARNING:absl:Importing a function (__inference_block4b_expand_activation_layer_call_and_return_conditional_losses_132527) with ops with unsaved custom gradients. Will likely fail if a gradient is requested.\n",
            "WARNING:absl:Importing a function (__inference_block6d_activation_layer_call_and_return_conditional_losses_135788) with ops with unsaved custom gradients. Will likely fail if a gradient is requested.\n",
            "WARNING:absl:Importing a function (__inference_block5c_expand_activation_layer_call_and_return_conditional_losses_134100) with ops with unsaved custom gradients. Will likely fail if a gradient is requested.\n",
            "WARNING:absl:Importing a function (__inference_block6a_activation_layer_call_and_return_conditional_losses_98611) with ops with unsaved custom gradients. Will likely fail if a gradient is requested.\n",
            "WARNING:absl:Importing a function (__inference_model_layer_call_and_return_conditional_losses_120801) with ops with unsaved custom gradients. Will likely fail if a gradient is requested.\n",
            "WARNING:absl:Importing a function (__inference_block4a_se_reduce_layer_call_and_return_conditional_losses_132328) with ops with unsaved custom gradients. Will likely fail if a gradient is requested.\n",
            "WARNING:absl:Importing a function (__inference_block6d_se_reduce_layer_call_and_return_conditional_losses_99120) with ops with unsaved custom gradients. Will likely fail if a gradient is requested.\n",
            "WARNING:absl:Importing a function (__inference_block7a_activation_layer_call_and_return_conditional_losses_136193) with ops with unsaved custom gradients. Will likely fail if a gradient is requested.\n",
            "WARNING:absl:Importing a function (__inference_block4a_expand_activation_layer_call_and_return_conditional_losses_132147) with ops with unsaved custom gradients. Will likely fail if a gradient is requested.\n",
            "WARNING:absl:Importing a function (__inference_block3b_se_reduce_layer_call_and_return_conditional_losses_97541) with ops with unsaved custom gradients. Will likely fail if a gradient is requested.\n",
            "WARNING:absl:Importing a function (__inference_block6d_expand_activation_layer_call_and_return_conditional_losses_135695) with ops with unsaved custom gradients. Will likely fail if a gradient is requested.\n",
            "WARNING:absl:Importing a function (__inference_block6d_expand_activation_layer_call_and_return_conditional_losses_99055) with ops with unsaved custom gradients. Will likely fail if a gradient is requested.\n",
            "WARNING:absl:Importing a function (__inference_block6a_expand_activation_layer_call_and_return_conditional_losses_134505) with ops with unsaved custom gradients. Will likely fail if a gradient is requested.\n",
            "WARNING:absl:Importing a function (__inference_block6a_se_reduce_layer_call_and_return_conditional_losses_134686) with ops with unsaved custom gradients. Will likely fail if a gradient is requested.\n",
            "WARNING:absl:Importing a function (__inference_block6c_expand_activation_layer_call_and_return_conditional_losses_135290) with ops with unsaved custom gradients. Will likely fail if a gradient is requested.\n",
            "WARNING:absl:Importing a function (__inference_block3b_expand_activation_layer_call_and_return_conditional_losses_131742) with ops with unsaved custom gradients. Will likely fail if a gradient is requested.\n",
            "WARNING:absl:Importing a function (__inference_block5b_se_reduce_layer_call_and_return_conditional_losses_133854) with ops with unsaved custom gradients. Will likely fail if a gradient is requested.\n",
            "WARNING:absl:Importing a function (__inference_efficientnetb0_layer_call_and_return_conditional_losses_107554) with ops with unsaved custom gradients. Will likely fail if a gradient is requested.\n",
            "WARNING:absl:Importing a function (__inference_block7a_expand_activation_layer_call_and_return_conditional_losses_99216) with ops with unsaved custom gradients. Will likely fail if a gradient is requested.\n",
            "WARNING:absl:Importing a function (__inference_block3a_activation_layer_call_and_return_conditional_losses_97354) with ops with unsaved custom gradients. Will likely fail if a gradient is requested.\n",
            "WARNING:absl:Importing a function (__inference_efficientnetb0_layer_call_and_return_conditional_losses_128298) with ops with unsaved custom gradients. Will likely fail if a gradient is requested.\n",
            "WARNING:absl:Importing a function (__inference_block2a_se_reduce_layer_call_and_return_conditional_losses_130758) with ops with unsaved custom gradients. Will likely fail if a gradient is requested.\n",
            "WARNING:absl:Importing a function (__inference_block4c_se_reduce_layer_call_and_return_conditional_losses_133091) with ops with unsaved custom gradients. Will likely fail if a gradient is requested.\n",
            "WARNING:absl:Importing a function (__inference_block3b_expand_activation_layer_call_and_return_conditional_losses_97476) with ops with unsaved custom gradients. Will likely fail if a gradient is requested.\n",
            "WARNING:absl:Importing a function (__inference_block4a_activation_layer_call_and_return_conditional_losses_97668) with ops with unsaved custom gradients. Will likely fail if a gradient is requested.\n",
            "WARNING:absl:Importing a function (__inference_block5b_expand_activation_layer_call_and_return_conditional_losses_98258) with ops with unsaved custom gradients. Will likely fail if a gradient is requested.\n",
            "WARNING:absl:Importing a function (__inference_block5a_expand_activation_layer_call_and_return_conditional_losses_133337) with ops with unsaved custom gradients. Will likely fail if a gradient is requested.\n",
            "WARNING:absl:Importing a function (__inference_block3b_activation_layer_call_and_return_conditional_losses_97500) with ops with unsaved custom gradients. Will likely fail if a gradient is requested.\n",
            "WARNING:absl:Importing a function (__inference_block5b_activation_layer_call_and_return_conditional_losses_98282) with ops with unsaved custom gradients. Will likely fail if a gradient is requested.\n",
            "WARNING:absl:Importing a function (__inference_block5b_activation_layer_call_and_return_conditional_losses_133788) with ops with unsaved custom gradients. Will likely fail if a gradient is requested.\n",
            "WARNING:absl:Importing a function (__inference_efficientnetb0_layer_call_and_return_conditional_losses_111229) with ops with unsaved custom gradients. Will likely fail if a gradient is requested.\n",
            "WARNING:absl:Importing a function (__inference_block5c_expand_activation_layer_call_and_return_conditional_losses_98419) with ops with unsaved custom gradients. Will likely fail if a gradient is requested.\n",
            "WARNING:absl:Importing a function (__inference_block6c_se_reduce_layer_call_and_return_conditional_losses_135449) with ops with unsaved custom gradients. Will likely fail if a gradient is requested.\n",
            "WARNING:absl:Importing a function (__inference_block4c_activation_layer_call_and_return_conditional_losses_97975) with ops with unsaved custom gradients. Will likely fail if a gradient is requested.\n",
            "WARNING:absl:Importing a function (__inference_block6b_expand_activation_layer_call_and_return_conditional_losses_134885) with ops with unsaved custom gradients. Will likely fail if a gradient is requested.\n",
            "WARNING:absl:Importing a function (__inference_block6b_activation_layer_call_and_return_conditional_losses_98757) with ops with unsaved custom gradients. Will likely fail if a gradient is requested.\n",
            "WARNING:absl:Importing a function (__inference_top_activation_layer_call_and_return_conditional_losses_136458) with ops with unsaved custom gradients. Will likely fail if a gradient is requested.\n",
            "WARNING:absl:Importing a function (__inference_block2b_se_reduce_layer_call_and_return_conditional_losses_131116) with ops with unsaved custom gradients. Will likely fail if a gradient is requested.\n",
            "WARNING:absl:Importing a function (__inference_block6d_activation_layer_call_and_return_conditional_losses_99079) with ops with unsaved custom gradients. Will likely fail if a gradient is requested.\n",
            "WARNING:absl:Importing a function (__inference_block4c_expand_activation_layer_call_and_return_conditional_losses_97951) with ops with unsaved custom gradients. Will likely fail if a gradient is requested.\n",
            "WARNING:absl:Importing a function (__inference_block5a_se_reduce_layer_call_and_return_conditional_losses_98177) with ops with unsaved custom gradients. Will likely fail if a gradient is requested.\n",
            "WARNING:absl:Importing a function (__inference_block2b_expand_activation_layer_call_and_return_conditional_losses_97162) with ops with unsaved custom gradients. Will likely fail if a gradient is requested.\n",
            "WARNING:absl:Importing a function (__inference_block1a_activation_layer_call_and_return_conditional_losses_130312) with ops with unsaved custom gradients. Will likely fail if a gradient is requested.\n",
            "WARNING:absl:Importing a function (__inference_block6b_activation_layer_call_and_return_conditional_losses_134978) with ops with unsaved custom gradients. Will likely fail if a gradient is requested.\n",
            "WARNING:absl:Importing a function (__inference_block6c_activation_layer_call_and_return_conditional_losses_98918) with ops with unsaved custom gradients. Will likely fail if a gradient is requested.\n",
            "WARNING:absl:Importing a function (__inference_block3b_activation_layer_call_and_return_conditional_losses_131835) with ops with unsaved custom gradients. Will likely fail if a gradient is requested.\n",
            "WARNING:absl:Importing a function (__inference_block4c_expand_activation_layer_call_and_return_conditional_losses_132932) with ops with unsaved custom gradients. Will likely fail if a gradient is requested.\n",
            "WARNING:absl:Importing a function (__inference_block6b_se_reduce_layer_call_and_return_conditional_losses_98798) with ops with unsaved custom gradients. Will likely fail if a gradient is requested.\n",
            "WARNING:absl:Importing a function (__inference_block6a_activation_layer_call_and_return_conditional_losses_134620) with ops with unsaved custom gradients. Will likely fail if a gradient is requested.\n",
            "WARNING:absl:Importing a function (__inference_block2a_activation_layer_call_and_return_conditional_losses_97040) with ops with unsaved custom gradients. Will likely fail if a gradient is requested.\n",
            "WARNING:absl:Importing a function (__inference_block2a_activation_layer_call_and_return_conditional_losses_130692) with ops with unsaved custom gradients. Will likely fail if a gradient is requested.\n",
            "WARNING:absl:Importing a function (__inference_block4b_activation_layer_call_and_return_conditional_losses_132620) with ops with unsaved custom gradients. Will likely fail if a gradient is requested.\n",
            "WARNING:absl:Importing a function (__inference_block2a_se_reduce_layer_call_and_return_conditional_losses_97081) with ops with unsaved custom gradients. Will likely fail if a gradient is requested.\n",
            "WARNING:absl:Importing a function (__inference_block6a_expand_activation_layer_call_and_return_conditional_losses_98580) with ops with unsaved custom gradients. Will likely fail if a gradient is requested.\n",
            "WARNING:absl:Importing a function (__inference__wrapped_model_89580) with ops with unsaved custom gradients. Will likely fail if a gradient is requested.\n",
            "WARNING:absl:Importing a function (__inference_block2b_se_reduce_layer_call_and_return_conditional_losses_97227) with ops with unsaved custom gradients. Will likely fail if a gradient is requested.\n",
            "WARNING:absl:Importing a function (__inference_block3a_expand_activation_layer_call_and_return_conditional_losses_97323) with ops with unsaved custom gradients. Will likely fail if a gradient is requested.\n",
            "WARNING:absl:Importing a function (__inference_block7a_expand_activation_layer_call_and_return_conditional_losses_136100) with ops with unsaved custom gradients. Will likely fail if a gradient is requested.\n",
            "WARNING:absl:Importing a function (__inference_block4a_se_reduce_layer_call_and_return_conditional_losses_97709) with ops with unsaved custom gradients. Will likely fail if a gradient is requested.\n",
            "WARNING:absl:Importing a function (__inference_block7a_se_reduce_layer_call_and_return_conditional_losses_99281) with ops with unsaved custom gradients. Will likely fail if a gradient is requested.\n",
            "WARNING:absl:Importing a function (__inference_block4b_expand_activation_layer_call_and_return_conditional_losses_97790) with ops with unsaved custom gradients. Will likely fail if a gradient is requested.\n",
            "WARNING:absl:Importing a function (__inference_block7a_se_reduce_layer_call_and_return_conditional_losses_136259) with ops with unsaved custom gradients. Will likely fail if a gradient is requested.\n",
            "WARNING:absl:Importing a function (__inference_block5a_activation_layer_call_and_return_conditional_losses_98136) with ops with unsaved custom gradients. Will likely fail if a gradient is requested.\n",
            "WARNING:absl:Importing a function (__inference_block7a_activation_layer_call_and_return_conditional_losses_99240) with ops with unsaved custom gradients. Will likely fail if a gradient is requested.\n"
          ]
        },
        {
          "output_type": "stream",
          "name": "stdout",
          "text": [
            "WARNING:tensorflow:Model was constructed with shape (None, None, None, 3) for input KerasTensor(type_spec=TensorSpec(shape=(None, None, None, 3), dtype=tf.float32, name='input_2'), name='input_2', description=\"created by layer 'input_2'\"), but it was called on an input with incompatible shape (None, 32, 32, 1).\n"
          ]
        },
        {
          "output_type": "stream",
          "name": "stderr",
          "text": [
            "WARNING:tensorflow:Model was constructed with shape (None, None, None, 3) for input KerasTensor(type_spec=TensorSpec(shape=(None, None, None, 3), dtype=tf.float32, name='input_2'), name='input_2', description=\"created by layer 'input_2'\"), but it was called on an input with incompatible shape (None, 32, 32, 1).\n"
          ]
        }
      ]
    },
    {
      "cell_type": "markdown",
      "metadata": {
        "id": "glbBT290B1wN"
      },
      "source": [
        "## Insights in our model"
      ]
    },
    {
      "cell_type": "code",
      "metadata": {
        "colab": {
          "base_uri": "https://localhost:8080/"
        },
        "id": "-8B51qb4zlPg",
        "outputId": "fee353c2-9e91-45a0-e22c-e396b983827b"
      },
      "source": [
        "preds = model_1.predict(test_data)"
      ],
      "execution_count": 23,
      "outputs": [
        {
          "output_type": "stream",
          "name": "stdout",
          "text": [
            "WARNING:tensorflow:Model was constructed with shape (None, None, None, 3) for input KerasTensor(type_spec=TensorSpec(shape=(None, None, None, 3), dtype=tf.float32, name='input_2'), name='input_2', description=\"created by layer 'input_2'\"), but it was called on an input with incompatible shape (None, 32, 32, 1).\n"
          ]
        },
        {
          "output_type": "stream",
          "name": "stderr",
          "text": [
            "WARNING:tensorflow:Model was constructed with shape (None, None, None, 3) for input KerasTensor(type_spec=TensorSpec(shape=(None, None, None, 3), dtype=tf.float32, name='input_2'), name='input_2', description=\"created by layer 'input_2'\"), but it was called on an input with incompatible shape (None, 32, 32, 1).\n"
          ]
        }
      ]
    },
    {
      "cell_type": "code",
      "metadata": {
        "colab": {
          "base_uri": "https://localhost:8080/"
        },
        "id": "d1x5sktl2jxC",
        "outputId": "d4444b8a-1e25-46c4-faf5-72961514a31e"
      },
      "source": [
        "preds[0]"
      ],
      "execution_count": 24,
      "outputs": [
        {
          "output_type": "execute_result",
          "data": {
            "text/plain": [
              "array([9.9582881e-01, 2.6212038e-11, 9.8154579e-13, 3.9618858e-10,\n",
              "       4.9600901e-12, 3.7116474e-13, 7.7138845e-10, 1.3794156e-06,\n",
              "       7.2012174e-11, 5.6772973e-07, 4.5733076e-10, 2.0151650e-05,\n",
              "       1.0675103e-12, 1.6194118e-10, 2.3464647e-08, 2.5897662e-04,\n",
              "       4.8776155e-08, 3.4213465e-07, 1.5583765e-11, 6.2619351e-05,\n",
              "       4.7069229e-09, 5.9471159e-08, 6.1910293e-07, 1.7079125e-11,\n",
              "       1.7062344e-05, 8.4313848e-11, 7.5230616e-07, 3.5860432e-07,\n",
              "       1.3313568e-04, 6.8861840e-07, 1.1280036e-07, 6.1802695e-07,\n",
              "       2.7936586e-08, 1.2068566e-09, 3.6736231e-03, 1.4535169e-08,\n",
              "       8.2223413e-14, 2.9153526e-12, 5.9057175e-13, 5.9487788e-13,\n",
              "       4.2920433e-12, 4.3636414e-09, 1.6776560e-12, 7.1392295e-13,\n",
              "       5.9168653e-14, 1.7717716e-16], dtype=float32)"
            ]
          },
          "metadata": {},
          "execution_count": 24
        }
      ]
    },
    {
      "cell_type": "code",
      "metadata": {
        "colab": {
          "base_uri": "https://localhost:8080/"
        },
        "id": "FkBwM0qy21gv",
        "outputId": "e76064a6-6bc6-429c-f77b-4f14499daf97"
      },
      "source": [
        "preds[0].argmax()"
      ],
      "execution_count": 25,
      "outputs": [
        {
          "output_type": "execute_result",
          "data": {
            "text/plain": [
              "0"
            ]
          },
          "metadata": {},
          "execution_count": 25
        }
      ]
    },
    {
      "cell_type": "code",
      "metadata": {
        "colab": {
          "base_uri": "https://localhost:8080/"
        },
        "id": "lx0PCqyn8EDz",
        "outputId": "9cda20be-0bbb-4525-9ee0-8b3d8ec80e9e"
      },
      "source": [
        "preds[0].max()"
      ],
      "execution_count": 26,
      "outputs": [
        {
          "output_type": "execute_result",
          "data": {
            "text/plain": [
              "0.9958288"
            ]
          },
          "metadata": {},
          "execution_count": 26
        }
      ]
    },
    {
      "cell_type": "code",
      "metadata": {
        "id": "ddI4L0GK27SS"
      },
      "source": [
        "true = []\n",
        "for i in test_data.filepaths:\n",
        "  true.append(i.split(\"/\")[4])"
      ],
      "execution_count": 27,
      "outputs": []
    },
    {
      "cell_type": "code",
      "metadata": {
        "colab": {
          "base_uri": "https://localhost:8080/"
        },
        "id": "xbMyNoa13JX7",
        "outputId": "271c6d23-1bcf-4801-bd7f-c8e4cc75e7f7"
      },
      "source": [
        "len(true)"
      ],
      "execution_count": 28,
      "outputs": [
        {
          "output_type": "execute_result",
          "data": {
            "text/plain": [
              "13800"
            ]
          },
          "metadata": {},
          "execution_count": 28
        }
      ]
    },
    {
      "cell_type": "code",
      "metadata": {
        "id": "wGEgAXYh3pG3"
      },
      "source": [
        "pred_indices = []\n",
        "for i in preds:\n",
        "  pred_indices.append(i.argmax())"
      ],
      "execution_count": 29,
      "outputs": []
    },
    {
      "cell_type": "code",
      "metadata": {
        "colab": {
          "base_uri": "https://localhost:8080/"
        },
        "id": "5e7hEBIh36Zk",
        "outputId": "9f3d29d8-2f7c-46ca-a01b-747a95f05d43"
      },
      "source": [
        "len(pred_indices)"
      ],
      "execution_count": 30,
      "outputs": [
        {
          "output_type": "execute_result",
          "data": {
            "text/plain": [
              "13800"
            ]
          },
          "metadata": {},
          "execution_count": 30
        }
      ]
    },
    {
      "cell_type": "code",
      "metadata": {
        "id": "ZsBlWkRR37zx"
      },
      "source": [
        "pred_labels = []\n",
        "for i in pred_indices:\n",
        "  pred_labels.append(labels[i])"
      ],
      "execution_count": 31,
      "outputs": []
    },
    {
      "cell_type": "code",
      "metadata": {
        "colab": {
          "base_uri": "https://localhost:8080/"
        },
        "id": "WiUg-8qC4PEQ",
        "outputId": "8a278668-7ba5-4a3f-fca7-4e48c6afc562"
      },
      "source": [
        "len(pred_labels)"
      ],
      "execution_count": 32,
      "outputs": [
        {
          "output_type": "execute_result",
          "data": {
            "text/plain": [
              "13800"
            ]
          },
          "metadata": {},
          "execution_count": 32
        }
      ]
    },
    {
      "cell_type": "code",
      "metadata": {
        "id": "ltMyCY3C4P8_"
      },
      "source": [
        "check = []\n",
        "for i in range(len(pred_labels)):\n",
        "  check.append(\"True\") if true[i] == pred_labels[i] else check.append(\"False\")"
      ],
      "execution_count": 33,
      "outputs": []
    },
    {
      "cell_type": "code",
      "metadata": {
        "colab": {
          "base_uri": "https://localhost:8080/"
        },
        "id": "QAobRGvQ4cYM",
        "outputId": "225a9083-ab5f-4b3c-e38d-f50a67544536"
      },
      "source": [
        "len(check)"
      ],
      "execution_count": 34,
      "outputs": [
        {
          "output_type": "execute_result",
          "data": {
            "text/plain": [
              "13800"
            ]
          },
          "metadata": {},
          "execution_count": 34
        }
      ]
    },
    {
      "cell_type": "code",
      "metadata": {
        "id": "93v6AGnz8Od_"
      },
      "source": [
        "pred_prob = []\n",
        "for i in range(len(pred_labels)):\n",
        "  pred_prob.append(preds[i].max())"
      ],
      "execution_count": 35,
      "outputs": []
    },
    {
      "cell_type": "code",
      "metadata": {
        "colab": {
          "base_uri": "https://localhost:8080/"
        },
        "id": "baUD88yx8bX4",
        "outputId": "cbe9da25-aa7f-485c-bf6e-dd94030ec61d"
      },
      "source": [
        "pred_prob[0]"
      ],
      "execution_count": 36,
      "outputs": [
        {
          "output_type": "execute_result",
          "data": {
            "text/plain": [
              "0.9958288"
            ]
          },
          "metadata": {},
          "execution_count": 36
        }
      ]
    },
    {
      "cell_type": "code",
      "metadata": {
        "id": "deRrAGb34c6-"
      },
      "source": [
        "df_test_preds = pd.DataFrame({\"Filepath\": test_data.filepaths,\n",
        "                              \"True label\": true,\n",
        "                              \"Pred label\": pred_labels,\n",
        "                              \"Pred Prob\": pred_prob,\n",
        "                              \"Check\": check})"
      ],
      "execution_count": 37,
      "outputs": []
    },
    {
      "cell_type": "code",
      "metadata": {
        "colab": {
          "base_uri": "https://localhost:8080/",
          "height": 206
        },
        "id": "ZsePfDJs5bdt",
        "outputId": "cda2f630-b9fb-43f5-af67-8a7f30c79794"
      },
      "source": [
        "df_test_preds.head()"
      ],
      "execution_count": 38,
      "outputs": [
        {
          "output_type": "execute_result",
          "data": {
            "text/html": [
              "<div>\n",
              "<style scoped>\n",
              "    .dataframe tbody tr th:only-of-type {\n",
              "        vertical-align: middle;\n",
              "    }\n",
              "\n",
              "    .dataframe tbody tr th {\n",
              "        vertical-align: top;\n",
              "    }\n",
              "\n",
              "    .dataframe thead th {\n",
              "        text-align: right;\n",
              "    }\n",
              "</style>\n",
              "<table border=\"1\" class=\"dataframe\">\n",
              "  <thead>\n",
              "    <tr style=\"text-align: right;\">\n",
              "      <th></th>\n",
              "      <th>Filepath</th>\n",
              "      <th>True label</th>\n",
              "      <th>Pred label</th>\n",
              "      <th>Pred Prob</th>\n",
              "      <th>Check</th>\n",
              "    </tr>\n",
              "  </thead>\n",
              "  <tbody>\n",
              "    <tr>\n",
              "      <th>0</th>\n",
              "      <td>/content/DevanagariHandwrittenCharacterDataset...</td>\n",
              "      <td>character_10_yna</td>\n",
              "      <td>character_10_yna</td>\n",
              "      <td>0.995829</td>\n",
              "      <td>True</td>\n",
              "    </tr>\n",
              "    <tr>\n",
              "      <th>1</th>\n",
              "      <td>/content/DevanagariHandwrittenCharacterDataset...</td>\n",
              "      <td>character_10_yna</td>\n",
              "      <td>character_10_yna</td>\n",
              "      <td>0.988693</td>\n",
              "      <td>True</td>\n",
              "    </tr>\n",
              "    <tr>\n",
              "      <th>2</th>\n",
              "      <td>/content/DevanagariHandwrittenCharacterDataset...</td>\n",
              "      <td>character_10_yna</td>\n",
              "      <td>character_10_yna</td>\n",
              "      <td>0.989036</td>\n",
              "      <td>True</td>\n",
              "    </tr>\n",
              "    <tr>\n",
              "      <th>3</th>\n",
              "      <td>/content/DevanagariHandwrittenCharacterDataset...</td>\n",
              "      <td>character_10_yna</td>\n",
              "      <td>character_10_yna</td>\n",
              "      <td>0.997819</td>\n",
              "      <td>True</td>\n",
              "    </tr>\n",
              "    <tr>\n",
              "      <th>4</th>\n",
              "      <td>/content/DevanagariHandwrittenCharacterDataset...</td>\n",
              "      <td>character_10_yna</td>\n",
              "      <td>character_10_yna</td>\n",
              "      <td>0.928055</td>\n",
              "      <td>True</td>\n",
              "    </tr>\n",
              "  </tbody>\n",
              "</table>\n",
              "</div>"
            ],
            "text/plain": [
              "                                            Filepath  ... Check\n",
              "0  /content/DevanagariHandwrittenCharacterDataset...  ...  True\n",
              "1  /content/DevanagariHandwrittenCharacterDataset...  ...  True\n",
              "2  /content/DevanagariHandwrittenCharacterDataset...  ...  True\n",
              "3  /content/DevanagariHandwrittenCharacterDataset...  ...  True\n",
              "4  /content/DevanagariHandwrittenCharacterDataset...  ...  True\n",
              "\n",
              "[5 rows x 5 columns]"
            ]
          },
          "metadata": {},
          "execution_count": 38
        }
      ]
    },
    {
      "cell_type": "code",
      "metadata": {
        "colab": {
          "base_uri": "https://localhost:8080/",
          "height": 206
        },
        "id": "R241HjDN5mN4",
        "outputId": "2f274e14-c042-4e51-e268-12b4e5f62ea4"
      },
      "source": [
        "df_test_preds.tail()"
      ],
      "execution_count": 39,
      "outputs": [
        {
          "output_type": "execute_result",
          "data": {
            "text/html": [
              "<div>\n",
              "<style scoped>\n",
              "    .dataframe tbody tr th:only-of-type {\n",
              "        vertical-align: middle;\n",
              "    }\n",
              "\n",
              "    .dataframe tbody tr th {\n",
              "        vertical-align: top;\n",
              "    }\n",
              "\n",
              "    .dataframe thead th {\n",
              "        text-align: right;\n",
              "    }\n",
              "</style>\n",
              "<table border=\"1\" class=\"dataframe\">\n",
              "  <thead>\n",
              "    <tr style=\"text-align: right;\">\n",
              "      <th></th>\n",
              "      <th>Filepath</th>\n",
              "      <th>True label</th>\n",
              "      <th>Pred label</th>\n",
              "      <th>Pred Prob</th>\n",
              "      <th>Check</th>\n",
              "    </tr>\n",
              "  </thead>\n",
              "  <tbody>\n",
              "    <tr>\n",
              "      <th>13795</th>\n",
              "      <td>/content/DevanagariHandwrittenCharacterDataset...</td>\n",
              "      <td>digit_9</td>\n",
              "      <td>digit_9</td>\n",
              "      <td>1.000000</td>\n",
              "      <td>True</td>\n",
              "    </tr>\n",
              "    <tr>\n",
              "      <th>13796</th>\n",
              "      <td>/content/DevanagariHandwrittenCharacterDataset...</td>\n",
              "      <td>digit_9</td>\n",
              "      <td>digit_9</td>\n",
              "      <td>0.999999</td>\n",
              "      <td>True</td>\n",
              "    </tr>\n",
              "    <tr>\n",
              "      <th>13797</th>\n",
              "      <td>/content/DevanagariHandwrittenCharacterDataset...</td>\n",
              "      <td>digit_9</td>\n",
              "      <td>digit_9</td>\n",
              "      <td>1.000000</td>\n",
              "      <td>True</td>\n",
              "    </tr>\n",
              "    <tr>\n",
              "      <th>13798</th>\n",
              "      <td>/content/DevanagariHandwrittenCharacterDataset...</td>\n",
              "      <td>digit_9</td>\n",
              "      <td>digit_9</td>\n",
              "      <td>0.999762</td>\n",
              "      <td>True</td>\n",
              "    </tr>\n",
              "    <tr>\n",
              "      <th>13799</th>\n",
              "      <td>/content/DevanagariHandwrittenCharacterDataset...</td>\n",
              "      <td>digit_9</td>\n",
              "      <td>digit_9</td>\n",
              "      <td>0.999955</td>\n",
              "      <td>True</td>\n",
              "    </tr>\n",
              "  </tbody>\n",
              "</table>\n",
              "</div>"
            ],
            "text/plain": [
              "                                                Filepath  ... Check\n",
              "13795  /content/DevanagariHandwrittenCharacterDataset...  ...  True\n",
              "13796  /content/DevanagariHandwrittenCharacterDataset...  ...  True\n",
              "13797  /content/DevanagariHandwrittenCharacterDataset...  ...  True\n",
              "13798  /content/DevanagariHandwrittenCharacterDataset...  ...  True\n",
              "13799  /content/DevanagariHandwrittenCharacterDataset...  ...  True\n",
              "\n",
              "[5 rows x 5 columns]"
            ]
          },
          "metadata": {},
          "execution_count": 39
        }
      ]
    },
    {
      "cell_type": "code",
      "metadata": {
        "id": "eh8aMR59RjbF"
      },
      "source": [
        "df_test_preds.to_csv(\"/content/All-preds.csv\")"
      ],
      "execution_count": 135,
      "outputs": []
    },
    {
      "cell_type": "code",
      "metadata": {
        "id": "5NBfOh-H6Imy"
      },
      "source": [
        "filepaths = test_data.filepaths"
      ],
      "execution_count": 40,
      "outputs": []
    },
    {
      "cell_type": "code",
      "metadata": {
        "id": "WR4zz0Os5reZ"
      },
      "source": [
        "wrng_filepaths = []\n",
        "wrng_pred = []\n",
        "true_ = []\n",
        "wrng_pred_prob = []\n",
        "for i in range(len(pred_labels)):\n",
        "  if check[i] == \"False\":\n",
        "    true_.append(true[i])\n",
        "    wrng_filepaths.append(filepaths[i])\n",
        "    wrng_pred.append(pred_labels[i])\n",
        "    wrng_pred_prob.append(pred_prob[i])"
      ],
      "execution_count": 41,
      "outputs": []
    },
    {
      "cell_type": "code",
      "metadata": {
        "colab": {
          "base_uri": "https://localhost:8080/"
        },
        "id": "Pww_oQIB7OtK",
        "outputId": "1ea03c03-08c6-4f03-8339-7a80a48f310e"
      },
      "source": [
        "len(wrng_pred)"
      ],
      "execution_count": 42,
      "outputs": [
        {
          "output_type": "execute_result",
          "data": {
            "text/plain": [
              "255"
            ]
          },
          "metadata": {},
          "execution_count": 42
        }
      ]
    },
    {
      "cell_type": "code",
      "metadata": {
        "id": "ch-bPj8q51j1"
      },
      "source": [
        "df_wrng_test_preds = pd.DataFrame({\"Filepath\": wrng_filepaths,\n",
        "                                   \"True label\": true_,\n",
        "                                   \"Pred label\": wrng_pred,\n",
        "                                   \"Pred Prob\": wrng_pred_prob})"
      ],
      "execution_count": 43,
      "outputs": []
    },
    {
      "cell_type": "code",
      "metadata": {
        "colab": {
          "base_uri": "https://localhost:8080/",
          "height": 206
        },
        "id": "sSNi9bfp54BN",
        "outputId": "6b490eb6-a9f1-403c-b1d5-60e18511fba4"
      },
      "source": [
        "df_wrng_test_preds.head()"
      ],
      "execution_count": 44,
      "outputs": [
        {
          "output_type": "execute_result",
          "data": {
            "text/html": [
              "<div>\n",
              "<style scoped>\n",
              "    .dataframe tbody tr th:only-of-type {\n",
              "        vertical-align: middle;\n",
              "    }\n",
              "\n",
              "    .dataframe tbody tr th {\n",
              "        vertical-align: top;\n",
              "    }\n",
              "\n",
              "    .dataframe thead th {\n",
              "        text-align: right;\n",
              "    }\n",
              "</style>\n",
              "<table border=\"1\" class=\"dataframe\">\n",
              "  <thead>\n",
              "    <tr style=\"text-align: right;\">\n",
              "      <th></th>\n",
              "      <th>Filepath</th>\n",
              "      <th>True label</th>\n",
              "      <th>Pred label</th>\n",
              "      <th>Pred Prob</th>\n",
              "    </tr>\n",
              "  </thead>\n",
              "  <tbody>\n",
              "    <tr>\n",
              "      <th>0</th>\n",
              "      <td>/content/DevanagariHandwrittenCharacterDataset...</td>\n",
              "      <td>character_10_yna</td>\n",
              "      <td>character_24_bha</td>\n",
              "      <td>0.554238</td>\n",
              "    </tr>\n",
              "    <tr>\n",
              "      <th>1</th>\n",
              "      <td>/content/DevanagariHandwrittenCharacterDataset...</td>\n",
              "      <td>character_10_yna</td>\n",
              "      <td>character_8_ja</td>\n",
              "      <td>0.589436</td>\n",
              "    </tr>\n",
              "    <tr>\n",
              "      <th>2</th>\n",
              "      <td>/content/DevanagariHandwrittenCharacterDataset...</td>\n",
              "      <td>character_10_yna</td>\n",
              "      <td>character_8_ja</td>\n",
              "      <td>0.800656</td>\n",
              "    </tr>\n",
              "    <tr>\n",
              "      <th>3</th>\n",
              "      <td>/content/DevanagariHandwrittenCharacterDataset...</td>\n",
              "      <td>character_10_yna</td>\n",
              "      <td>character_17_tha</td>\n",
              "      <td>0.480395</td>\n",
              "    </tr>\n",
              "    <tr>\n",
              "      <th>4</th>\n",
              "      <td>/content/DevanagariHandwrittenCharacterDataset...</td>\n",
              "      <td>character_10_yna</td>\n",
              "      <td>character_8_ja</td>\n",
              "      <td>0.716537</td>\n",
              "    </tr>\n",
              "  </tbody>\n",
              "</table>\n",
              "</div>"
            ],
            "text/plain": [
              "                                            Filepath  ... Pred Prob\n",
              "0  /content/DevanagariHandwrittenCharacterDataset...  ...  0.554238\n",
              "1  /content/DevanagariHandwrittenCharacterDataset...  ...  0.589436\n",
              "2  /content/DevanagariHandwrittenCharacterDataset...  ...  0.800656\n",
              "3  /content/DevanagariHandwrittenCharacterDataset...  ...  0.480395\n",
              "4  /content/DevanagariHandwrittenCharacterDataset...  ...  0.716537\n",
              "\n",
              "[5 rows x 4 columns]"
            ]
          },
          "metadata": {},
          "execution_count": 44
        }
      ]
    },
    {
      "cell_type": "code",
      "metadata": {
        "colab": {
          "base_uri": "https://localhost:8080/",
          "height": 206
        },
        "id": "KSrnv8z374EN",
        "outputId": "7d9487ad-d6da-4cca-ee31-fe384be67ad5"
      },
      "source": [
        "df_wrng_test_preds.tail()"
      ],
      "execution_count": 45,
      "outputs": [
        {
          "output_type": "execute_result",
          "data": {
            "text/html": [
              "<div>\n",
              "<style scoped>\n",
              "    .dataframe tbody tr th:only-of-type {\n",
              "        vertical-align: middle;\n",
              "    }\n",
              "\n",
              "    .dataframe tbody tr th {\n",
              "        vertical-align: top;\n",
              "    }\n",
              "\n",
              "    .dataframe thead th {\n",
              "        text-align: right;\n",
              "    }\n",
              "</style>\n",
              "<table border=\"1\" class=\"dataframe\">\n",
              "  <thead>\n",
              "    <tr style=\"text-align: right;\">\n",
              "      <th></th>\n",
              "      <th>Filepath</th>\n",
              "      <th>True label</th>\n",
              "      <th>Pred label</th>\n",
              "      <th>Pred Prob</th>\n",
              "    </tr>\n",
              "  </thead>\n",
              "  <tbody>\n",
              "    <tr>\n",
              "      <th>250</th>\n",
              "      <td>/content/DevanagariHandwrittenCharacterDataset...</td>\n",
              "      <td>digit_6</td>\n",
              "      <td>character_4_gha</td>\n",
              "      <td>0.424101</td>\n",
              "    </tr>\n",
              "    <tr>\n",
              "      <th>251</th>\n",
              "      <td>/content/DevanagariHandwrittenCharacterDataset...</td>\n",
              "      <td>digit_6</td>\n",
              "      <td>digit_3</td>\n",
              "      <td>0.992277</td>\n",
              "    </tr>\n",
              "    <tr>\n",
              "      <th>252</th>\n",
              "      <td>/content/DevanagariHandwrittenCharacterDataset...</td>\n",
              "      <td>digit_6</td>\n",
              "      <td>character_7_chha</td>\n",
              "      <td>0.471611</td>\n",
              "    </tr>\n",
              "    <tr>\n",
              "      <th>253</th>\n",
              "      <td>/content/DevanagariHandwrittenCharacterDataset...</td>\n",
              "      <td>digit_7</td>\n",
              "      <td>digit_1</td>\n",
              "      <td>0.372736</td>\n",
              "    </tr>\n",
              "    <tr>\n",
              "      <th>254</th>\n",
              "      <td>/content/DevanagariHandwrittenCharacterDataset...</td>\n",
              "      <td>digit_9</td>\n",
              "      <td>digit_3</td>\n",
              "      <td>0.749345</td>\n",
              "    </tr>\n",
              "  </tbody>\n",
              "</table>\n",
              "</div>"
            ],
            "text/plain": [
              "                                              Filepath  ... Pred Prob\n",
              "250  /content/DevanagariHandwrittenCharacterDataset...  ...  0.424101\n",
              "251  /content/DevanagariHandwrittenCharacterDataset...  ...  0.992277\n",
              "252  /content/DevanagariHandwrittenCharacterDataset...  ...  0.471611\n",
              "253  /content/DevanagariHandwrittenCharacterDataset...  ...  0.372736\n",
              "254  /content/DevanagariHandwrittenCharacterDataset...  ...  0.749345\n",
              "\n",
              "[5 rows x 4 columns]"
            ]
          },
          "metadata": {},
          "execution_count": 45
        }
      ]
    },
    {
      "cell_type": "code",
      "metadata": {
        "colab": {
          "base_uri": "https://localhost:8080/",
          "height": 423
        },
        "id": "9VchNKia83ix",
        "outputId": "7625bf1c-69e6-450f-d256-6f217ee385b6"
      },
      "source": [
        "df_wrng_test_preds"
      ],
      "execution_count": 46,
      "outputs": [
        {
          "output_type": "execute_result",
          "data": {
            "text/html": [
              "<div>\n",
              "<style scoped>\n",
              "    .dataframe tbody tr th:only-of-type {\n",
              "        vertical-align: middle;\n",
              "    }\n",
              "\n",
              "    .dataframe tbody tr th {\n",
              "        vertical-align: top;\n",
              "    }\n",
              "\n",
              "    .dataframe thead th {\n",
              "        text-align: right;\n",
              "    }\n",
              "</style>\n",
              "<table border=\"1\" class=\"dataframe\">\n",
              "  <thead>\n",
              "    <tr style=\"text-align: right;\">\n",
              "      <th></th>\n",
              "      <th>Filepath</th>\n",
              "      <th>True label</th>\n",
              "      <th>Pred label</th>\n",
              "      <th>Pred Prob</th>\n",
              "    </tr>\n",
              "  </thead>\n",
              "  <tbody>\n",
              "    <tr>\n",
              "      <th>0</th>\n",
              "      <td>/content/DevanagariHandwrittenCharacterDataset...</td>\n",
              "      <td>character_10_yna</td>\n",
              "      <td>character_24_bha</td>\n",
              "      <td>0.554238</td>\n",
              "    </tr>\n",
              "    <tr>\n",
              "      <th>1</th>\n",
              "      <td>/content/DevanagariHandwrittenCharacterDataset...</td>\n",
              "      <td>character_10_yna</td>\n",
              "      <td>character_8_ja</td>\n",
              "      <td>0.589436</td>\n",
              "    </tr>\n",
              "    <tr>\n",
              "      <th>2</th>\n",
              "      <td>/content/DevanagariHandwrittenCharacterDataset...</td>\n",
              "      <td>character_10_yna</td>\n",
              "      <td>character_8_ja</td>\n",
              "      <td>0.800656</td>\n",
              "    </tr>\n",
              "    <tr>\n",
              "      <th>3</th>\n",
              "      <td>/content/DevanagariHandwrittenCharacterDataset...</td>\n",
              "      <td>character_10_yna</td>\n",
              "      <td>character_17_tha</td>\n",
              "      <td>0.480395</td>\n",
              "    </tr>\n",
              "    <tr>\n",
              "      <th>4</th>\n",
              "      <td>/content/DevanagariHandwrittenCharacterDataset...</td>\n",
              "      <td>character_10_yna</td>\n",
              "      <td>character_8_ja</td>\n",
              "      <td>0.716537</td>\n",
              "    </tr>\n",
              "    <tr>\n",
              "      <th>...</th>\n",
              "      <td>...</td>\n",
              "      <td>...</td>\n",
              "      <td>...</td>\n",
              "      <td>...</td>\n",
              "    </tr>\n",
              "    <tr>\n",
              "      <th>250</th>\n",
              "      <td>/content/DevanagariHandwrittenCharacterDataset...</td>\n",
              "      <td>digit_6</td>\n",
              "      <td>character_4_gha</td>\n",
              "      <td>0.424101</td>\n",
              "    </tr>\n",
              "    <tr>\n",
              "      <th>251</th>\n",
              "      <td>/content/DevanagariHandwrittenCharacterDataset...</td>\n",
              "      <td>digit_6</td>\n",
              "      <td>digit_3</td>\n",
              "      <td>0.992277</td>\n",
              "    </tr>\n",
              "    <tr>\n",
              "      <th>252</th>\n",
              "      <td>/content/DevanagariHandwrittenCharacterDataset...</td>\n",
              "      <td>digit_6</td>\n",
              "      <td>character_7_chha</td>\n",
              "      <td>0.471611</td>\n",
              "    </tr>\n",
              "    <tr>\n",
              "      <th>253</th>\n",
              "      <td>/content/DevanagariHandwrittenCharacterDataset...</td>\n",
              "      <td>digit_7</td>\n",
              "      <td>digit_1</td>\n",
              "      <td>0.372736</td>\n",
              "    </tr>\n",
              "    <tr>\n",
              "      <th>254</th>\n",
              "      <td>/content/DevanagariHandwrittenCharacterDataset...</td>\n",
              "      <td>digit_9</td>\n",
              "      <td>digit_3</td>\n",
              "      <td>0.749345</td>\n",
              "    </tr>\n",
              "  </tbody>\n",
              "</table>\n",
              "<p>255 rows × 4 columns</p>\n",
              "</div>"
            ],
            "text/plain": [
              "                                              Filepath  ... Pred Prob\n",
              "0    /content/DevanagariHandwrittenCharacterDataset...  ...  0.554238\n",
              "1    /content/DevanagariHandwrittenCharacterDataset...  ...  0.589436\n",
              "2    /content/DevanagariHandwrittenCharacterDataset...  ...  0.800656\n",
              "3    /content/DevanagariHandwrittenCharacterDataset...  ...  0.480395\n",
              "4    /content/DevanagariHandwrittenCharacterDataset...  ...  0.716537\n",
              "..                                                 ...  ...       ...\n",
              "250  /content/DevanagariHandwrittenCharacterDataset...  ...  0.424101\n",
              "251  /content/DevanagariHandwrittenCharacterDataset...  ...  0.992277\n",
              "252  /content/DevanagariHandwrittenCharacterDataset...  ...  0.471611\n",
              "253  /content/DevanagariHandwrittenCharacterDataset...  ...  0.372736\n",
              "254  /content/DevanagariHandwrittenCharacterDataset...  ...  0.749345\n",
              "\n",
              "[255 rows x 4 columns]"
            ]
          },
          "metadata": {},
          "execution_count": 46
        }
      ]
    },
    {
      "cell_type": "code",
      "metadata": {
        "id": "-8qeG2O486C2"
      },
      "source": [
        "# df_wrng_test_preds.to_csv(\"/content/drive/MyDrive/Hindi-OCR/Wrong-preds.csv\")"
      ],
      "execution_count": 47,
      "outputs": []
    },
    {
      "cell_type": "code",
      "metadata": {
        "colab": {
          "base_uri": "https://localhost:8080/",
          "height": 279
        },
        "id": "y_r71FYW9Pez",
        "outputId": "906b979f-f377-484f-dd0b-e7c0d979c2ed"
      },
      "source": [
        "# Visualizing wrong predictions\n",
        "rand_num = np.random.randint(len(wrng_pred))\n",
        "img = load_and_prep(wrng_filepaths[rand_num])\n",
        "plt.imshow(img/255)\n",
        "plt.axis(False)\n",
        "title_ = f\"True label: {true_[rand_num]}, \\nPred label: {wrng_pred[rand_num]}, Pred prob: {wrng_pred_prob[rand_num]:.2f}\"\n",
        "plt.title(title_, color = \"red\");"
      ],
      "execution_count": 48,
      "outputs": [
        {
          "output_type": "display_data",
          "data": {
            "image/png": "[encoded data removed]",
            "text/plain": [
              "<Figure size 432x288 with 1 Axes>"
            ]
          },
          "metadata": {
            "needs_background": "light"
          }
        }
      ]
    },
    {
      "cell_type": "code",
      "metadata": {
        "colab": {
          "base_uri": "https://localhost:8080/",
          "height": 818
        },
        "id": "f-2bt8t8-C4G",
        "outputId": "f5c7e3f0-537e-4395-8ddd-b5870a31e0c3"
      },
      "source": [
        "# Plotting multiple random wrong images\n",
        "plt.figure(figsize=(20, 14))\n",
        "rand_set = random.sample(range(len(wrng_pred)), 12)\n",
        "for i in range(12):\n",
        "  # getting images\n",
        "  title_ = f\"True label: {true_[rand_set[i]]}, \\nPred label: {wrng_pred[rand_set[i]]}, Pred prob: {wrng_pred_prob[rand_set[i]]:.2f}\"\n",
        "  img = load_and_prep(wrng_filepaths[rand_set[i]])\n",
        "\n",
        "  # plotting images\n",
        "  plt.subplot(3, 4, i+1)\n",
        "  plt.imshow(img/255)\n",
        "  plt.axis(False)\n",
        "  plt.title(title_, color=\"red\");"
      ],
      "execution_count": 133,
      "outputs": [
        {
          "output_type": "display_data",
          "data": {
            "image/png": "[encoded data removed]",
            "text/plain": [
              "<Figure size 1440x1008 with 12 Axes>"
            ]
          },
          "metadata": {
            "needs_background": "light"
          }
        }
      ]
    },
    {
      "cell_type": "code",
      "metadata": {
        "colab": {
          "base_uri": "https://localhost:8080/",
          "height": 812
        },
        "id": "EBbEouQxMQGs",
        "outputId": "fc86bc83-a12f-4b0d-969b-97aa8587ac47"
      },
      "source": [
        "# Random Predictions\n",
        "plt.figure(figsize=(20, 14))\n",
        "rand_set = random.sample(range(len(pred_prob)), 12)\n",
        "for i in range(12):\n",
        "  # getting images\n",
        "  title_ = f\"True label: {true[rand_set[i]]}, \\nPred label: {pred_labels[rand_set[i]]}, Pred prob: {pred_prob[rand_set[i]]:.2f}\"\n",
        "  img = load_and_prep(filepaths[rand_set[i]])\n",
        "  clr = \"green\" if true[rand_set[i]] == pred_labels[rand_set[i]] else \"red\"\n",
        "\n",
        "  # plotting images\n",
        "  plt.subplot(3, 4, i+1)\n",
        "  plt.imshow(img/255)\n",
        "  plt.axis(False)\n",
        "  plt.title(title_, color=clr);"
      ],
      "execution_count": 131,
      "outputs": [
        {
          "output_type": "display_data",
          "data": {
            "image/png": "[encoded data removed]",
            "text/plain": [
              "<Figure size 1440x1008 with 12 Axes>"
            ]
          },
          "metadata": {
            "needs_background": "light"
          }
        }
      ]
    },
    {
      "cell_type": "code",
      "metadata": {
        "id": "kosbVvrMOvuj"
      },
      "source": [
        ""
      ],
      "execution_count": null,
      "outputs": []
    }
  ]
}